{
  "nbformat": 4,
  "nbformat_minor": 0,
  "metadata": {
    "colab": {
      "provenance": [],
      "gpuType": "T4",
      "authorship_tag": "ABX9TyPLZK1BxFiD4G2tsGgEDh/7",
      "include_colab_link": true
    },
    "kernelspec": {
      "name": "python3",
      "display_name": "Python 3"
    },
    "language_info": {
      "name": "python"
    },
    "accelerator": "GPU"
  },
  "cells": [
    {
      "cell_type": "markdown",
      "metadata": {
        "id": "view-in-github",
        "colab_type": "text"
      },
      "source": [
        "<a href=\"https://colab.research.google.com/github/MUHAMMADFAWWAZWIYOGA/AI-BOLA/blob/main/aibola.ipynb\" target=\"_parent\"><img src=\"https://colab.research.google.com/assets/colab-badge.svg\" alt=\"Open In Colab\"/></a>"
      ]
    },
    {
      "cell_type": "code",
      "execution_count": 3,
      "metadata": {
        "colab": {
          "base_uri": "https://localhost:8080/"
        },
        "id": "dAiGKC6XnqXk",
        "outputId": "31d2c4ee-02f1-490d-b320-087f95026536"
      },
      "outputs": [
        {
          "output_type": "stream",
          "name": "stdout",
          "text": [
            "/content\n"
          ]
        }
      ],
      "source": [
        "import os\n",
        "HOME = os.getcwd()\n",
        "print(HOME)\n"
      ]
    },
    {
      "cell_type": "code",
      "source": [
        "!pip install -q ultralytics roboflow"
      ],
      "metadata": {
        "id": "v1KWvPHspG5V"
      },
      "execution_count": 4,
      "outputs": []
    },
    {
      "cell_type": "code",
      "source": [
        "from roboflow import Roboflow\n",
        "from google.colab import userdata\n",
        "from IPython.display import Image"
      ],
      "metadata": {
        "id": "tus8EICHp75t"
      },
      "execution_count": 5,
      "outputs": []
    },
    {
      "cell_type": "code",
      "source": [
        "%cd {HOME}/bola\n",
        "\n",
        "ROBOFLOW_API_KEY = 'gyjxoHJ8S5D6u8XekS6K'\n",
        "rf = Roboflow(api_key=ROBOFLOW_API_KEY) # Roboflow class is now accessible and can be used to create an instance\n",
        "\n",
        "\n",
        "project = rf.workspace(\"roboflow-jvuqo\").project(\"football-players-detection-3zvbc\")\n",
        "version =project.version(12)\n",
        "dataset = version.download(\"yolov8\")"
      ],
      "metadata": {
        "colab": {
          "base_uri": "https://localhost:8080/"
        },
        "id": "67d74wEJqW67",
        "outputId": "750d50cd-dd70-458d-ce44-4888e2b7aa7b"
      },
      "execution_count": 6,
      "outputs": [
        {
          "output_type": "stream",
          "name": "stdout",
          "text": [
            "[Errno 2] No such file or directory: '/content/bola'\n",
            "/content\n",
            "loading Roboflow workspace...\n",
            "loading Roboflow project...\n"
          ]
        }
      ]
    },
    {
      "cell_type": "code",
      "source": [
        "\n",
        "rf = Roboflow(api_key=\"gyjxoHJ8S5D6u8XekS6K\")\n",
        "project = rf.workspace(\"roboflow-jvuqo\").project(\"football-players-detection-3zvbc\")\n",
        "version = project.version(12)\n",
        "dataset = version.download(\"yolov8\")"
      ],
      "metadata": {
        "id": "TgYm6rZ-pR1u",
        "colab": {
          "base_uri": "https://localhost:8080/"
        },
        "outputId": "8ebe6359-e0af-4fe4-f098-5b9df797a9ca"
      },
      "execution_count": 7,
      "outputs": [
        {
          "output_type": "stream",
          "name": "stdout",
          "text": [
            "loading Roboflow workspace...\n",
            "loading Roboflow project...\n"
          ]
        }
      ]
    },
    {
      "cell_type": "code",
      "source": [
        " !sed -i 's|\\(train: \\).*|\\1../train/images|' {dataset.location}/data.yaml\n",
        " !sed -i 's|\\(val: \\).*|\\1../valid/images|' {dataset.location}/data.yaml"
      ],
      "metadata": {
        "id": "RgUzH02hsxAV"
      },
      "execution_count": 8,
      "outputs": []
    },
    {
      "cell_type": "code",
      "source": [
        "%cd {HOME}\n",
        "\n",
        "!yolo task=detect mode=train model=yolov8s.pt data={dataset.location}/data.yaml batch=6 epochs=50 imgsz=1280 plots=True"
      ],
      "metadata": {
        "colab": {
          "base_uri": "https://localhost:8080/"
        },
        "id": "mTrBhVyhtHN-",
        "outputId": "a0202809-3f3e-489a-8b8f-ac3099a50853"
      },
      "execution_count": null,
      "outputs": [
        {
          "output_type": "stream",
          "name": "stdout",
          "text": [
            "/content\n",
            "Downloading https://github.com/ultralytics/assets/releases/download/v8.3.0/yolov8s.pt to 'yolov8s.pt'...\n",
            "100% 21.5M/21.5M [00:00<00:00, 257MB/s]\n",
            "Ultralytics 8.3.28 🚀 Python-3.10.12 torch-2.5.0+cu121 CUDA:0 (Tesla T4, 15102MiB)\n",
            "\u001b[34m\u001b[1mengine/trainer: \u001b[0mtask=detect, mode=train, model=yolov8s.pt, data=/content/football-players-detection-12/data.yaml, epochs=50, time=None, patience=100, batch=6, imgsz=1280, save=True, save_period=-1, cache=False, device=None, workers=8, project=None, name=train, exist_ok=False, pretrained=True, optimizer=auto, verbose=True, seed=0, deterministic=True, single_cls=False, rect=False, cos_lr=False, close_mosaic=10, resume=False, amp=True, fraction=1.0, profile=False, freeze=None, multi_scale=False, overlap_mask=True, mask_ratio=4, dropout=0.0, val=True, split=val, save_json=False, save_hybrid=False, conf=None, iou=0.7, max_det=300, half=False, dnn=False, plots=True, source=None, vid_stride=1, stream_buffer=False, visualize=False, augment=False, agnostic_nms=False, classes=None, retina_masks=False, embed=None, show=False, save_frames=False, save_txt=False, save_conf=False, save_crop=False, show_labels=True, show_conf=True, show_boxes=True, line_width=None, format=torchscript, keras=False, optimize=False, int8=False, dynamic=False, simplify=True, opset=None, workspace=4, nms=False, lr0=0.01, lrf=0.01, momentum=0.937, weight_decay=0.0005, warmup_epochs=3.0, warmup_momentum=0.8, warmup_bias_lr=0.1, box=7.5, cls=0.5, dfl=1.5, pose=12.0, kobj=1.0, label_smoothing=0.0, nbs=64, hsv_h=0.015, hsv_s=0.7, hsv_v=0.4, degrees=0.0, translate=0.1, scale=0.5, shear=0.0, perspective=0.0, flipud=0.0, fliplr=0.5, bgr=0.0, mosaic=1.0, mixup=0.0, copy_paste=0.0, copy_paste_mode=flip, auto_augment=randaugment, erasing=0.4, crop_fraction=1.0, cfg=None, tracker=botsort.yaml, save_dir=runs/detect/train\n",
            "Downloading https://ultralytics.com/assets/Arial.ttf to '/root/.config/Ultralytics/Arial.ttf'...\n",
            "100% 755k/755k [00:00<00:00, 20.9MB/s]\n",
            "Overriding model.yaml nc=80 with nc=4\n",
            "\n",
            "                   from  n    params  module                                       arguments                     \n",
            "  0                  -1  1       928  ultralytics.nn.modules.conv.Conv             [3, 32, 3, 2]                 \n",
            "  1                  -1  1     18560  ultralytics.nn.modules.conv.Conv             [32, 64, 3, 2]                \n",
            "  2                  -1  1     29056  ultralytics.nn.modules.block.C2f             [64, 64, 1, True]             \n",
            "  3                  -1  1     73984  ultralytics.nn.modules.conv.Conv             [64, 128, 3, 2]               \n",
            "  4                  -1  2    197632  ultralytics.nn.modules.block.C2f             [128, 128, 2, True]           \n",
            "  5                  -1  1    295424  ultralytics.nn.modules.conv.Conv             [128, 256, 3, 2]              \n",
            "  6                  -1  2    788480  ultralytics.nn.modules.block.C2f             [256, 256, 2, True]           \n",
            "  7                  -1  1   1180672  ultralytics.nn.modules.conv.Conv             [256, 512, 3, 2]              \n",
            "  8                  -1  1   1838080  ultralytics.nn.modules.block.C2f             [512, 512, 1, True]           \n",
            "  9                  -1  1    656896  ultralytics.nn.modules.block.SPPF            [512, 512, 5]                 \n",
            " 10                  -1  1         0  torch.nn.modules.upsampling.Upsample         [None, 2, 'nearest']          \n",
            " 11             [-1, 6]  1         0  ultralytics.nn.modules.conv.Concat           [1]                           \n",
            " 12                  -1  1    591360  ultralytics.nn.modules.block.C2f             [768, 256, 1]                 \n",
            " 13                  -1  1         0  torch.nn.modules.upsampling.Upsample         [None, 2, 'nearest']          \n",
            " 14             [-1, 4]  1         0  ultralytics.nn.modules.conv.Concat           [1]                           \n",
            " 15                  -1  1    148224  ultralytics.nn.modules.block.C2f             [384, 128, 1]                 \n",
            " 16                  -1  1    147712  ultralytics.nn.modules.conv.Conv             [128, 128, 3, 2]              \n",
            " 17            [-1, 12]  1         0  ultralytics.nn.modules.conv.Concat           [1]                           \n",
            " 18                  -1  1    493056  ultralytics.nn.modules.block.C2f             [384, 256, 1]                 \n",
            " 19                  -1  1    590336  ultralytics.nn.modules.conv.Conv             [256, 256, 3, 2]              \n",
            " 20             [-1, 9]  1         0  ultralytics.nn.modules.conv.Concat           [1]                           \n",
            " 21                  -1  1   1969152  ultralytics.nn.modules.block.C2f             [768, 512, 1]                 \n",
            " 22        [15, 18, 21]  1   2117596  ultralytics.nn.modules.head.Detect           [4, [128, 256, 512]]          \n",
            "Model summary: 225 layers, 11,137,148 parameters, 11,137,132 gradients, 28.7 GFLOPs\n",
            "\n",
            "Transferred 349/355 items from pretrained weights\n",
            "\u001b[34m\u001b[1mTensorBoard: \u001b[0mStart with 'tensorboard --logdir runs/detect/train', view at http://localhost:6006/\n",
            "Freezing layer 'model.22.dfl.conv.weight'\n",
            "\u001b[34m\u001b[1mAMP: \u001b[0mrunning Automatic Mixed Precision (AMP) checks...\n",
            "Downloading https://github.com/ultralytics/assets/releases/download/v8.3.0/yolo11n.pt to 'yolo11n.pt'...\n",
            "100% 5.35M/5.35M [00:00<00:00, 102MB/s]\n",
            "\u001b[34m\u001b[1mAMP: \u001b[0mchecks passed ✅\n",
            "\u001b[34m\u001b[1mtrain: \u001b[0mScanning /content/football-players-detection-12/train/labels... 298 images, 0 backgrounds, 0 corrupt: 100% 298/298 [00:00<00:00, 1696.29it/s]\n",
            "\u001b[34m\u001b[1mtrain: \u001b[0mNew cache created: /content/football-players-detection-12/train/labels.cache\n",
            "/usr/local/lib/python3.10/dist-packages/albumentations/__init__.py:24: UserWarning: A new version of Albumentations is available: 1.4.21 (you have 1.4.20). Upgrade using: pip install -U albumentations. To disable automatic update checks, set the environment variable NO_ALBUMENTATIONS_UPDATE to 1.\n",
            "  check_for_updates()\n",
            "\u001b[34m\u001b[1malbumentations: \u001b[0mBlur(p=0.01, blur_limit=(3, 7)), MedianBlur(p=0.01, blur_limit=(3, 7)), ToGray(p=0.01, num_output_channels=3, method='weighted_average'), CLAHE(p=0.01, clip_limit=(1.0, 4.0), tile_grid_size=(8, 8))\n",
            "\u001b[34m\u001b[1mval: \u001b[0mScanning /content/football-players-detection-12/valid/labels... 49 images, 0 backgrounds, 0 corrupt: 100% 49/49 [00:00<00:00, 699.91it/s]\n",
            "\u001b[34m\u001b[1mval: \u001b[0mNew cache created: /content/football-players-detection-12/valid/labels.cache\n",
            "Plotting labels to runs/detect/train/labels.jpg... \n",
            "\u001b[34m\u001b[1moptimizer:\u001b[0m 'optimizer=auto' found, ignoring 'lr0=0.01' and 'momentum=0.937' and determining best 'optimizer', 'lr0' and 'momentum' automatically... \n",
            "\u001b[34m\u001b[1moptimizer:\u001b[0m AdamW(lr=0.00125, momentum=0.9) with parameter groups 57 weight(decay=0.0), 64 weight(decay=0.000515625), 63 bias(decay=0.0)\n",
            "\u001b[34m\u001b[1mTensorBoard: \u001b[0mmodel graph visualization added ✅\n",
            "Image sizes 1280 train, 1280 val\n",
            "Using 2 dataloader workers\n",
            "Logging results to \u001b[1mruns/detect/train\u001b[0m\n",
            "Starting training for 50 epochs...\n",
            "\n",
            "      Epoch    GPU_mem   box_loss   cls_loss   dfl_loss  Instances       Size\n",
            "       1/50       6.4G      1.037      1.616     0.9152        125       1280: 100% 50/50 [00:26<00:00,  1.88it/s]\n",
            "                 Class     Images  Instances      Box(P          R      mAP50  mAP50-95): 100% 5/5 [00:03<00:00,  1.62it/s]\n",
            "                   all         49       1174      0.521      0.456      0.417      0.261\n",
            "\n",
            "      Epoch    GPU_mem   box_loss   cls_loss   dfl_loss  Instances       Size\n",
            "       2/50      6.88G      1.002     0.9546     0.8862         61       1280: 100% 50/50 [00:23<00:00,  2.13it/s]\n",
            "                 Class     Images  Instances      Box(P          R      mAP50  mAP50-95): 100% 5/5 [00:02<00:00,  1.68it/s]\n",
            "                   all         49       1174      0.717      0.631      0.679      0.391\n",
            "\n",
            "      Epoch    GPU_mem   box_loss   cls_loss   dfl_loss  Instances       Size\n",
            "       3/50      6.54G      1.079      0.859     0.8943        183       1280: 100% 50/50 [00:23<00:00,  2.13it/s]\n",
            "                 Class     Images  Instances      Box(P          R      mAP50  mAP50-95): 100% 5/5 [00:01<00:00,  3.37it/s]\n",
            "                   all         49       1174      0.765       0.68      0.749      0.429\n",
            "\n",
            "      Epoch    GPU_mem   box_loss   cls_loss   dfl_loss  Instances       Size\n",
            "       4/50      6.45G      1.042     0.7712     0.8895        162       1280: 100% 50/50 [00:22<00:00,  2.20it/s]\n",
            "                 Class     Images  Instances      Box(P          R      mAP50  mAP50-95): 100% 5/5 [00:01<00:00,  3.31it/s]\n",
            "                   all         49       1174      0.863      0.702      0.799      0.516\n",
            "\n",
            "      Epoch    GPU_mem   box_loss   cls_loss   dfl_loss  Instances       Size\n",
            "       5/50      6.22G     0.9831     0.7036     0.8882        245       1280: 100% 50/50 [00:24<00:00,  2.07it/s]\n",
            "                 Class     Images  Instances      Box(P          R      mAP50  mAP50-95): 100% 5/5 [00:02<00:00,  2.29it/s]\n",
            "                   all         49       1174       0.91      0.733      0.847      0.552\n",
            "\n",
            "      Epoch    GPU_mem   box_loss   cls_loss   dfl_loss  Instances       Size\n",
            "       6/50      6.47G     0.9236     0.6866     0.8864        234       1280: 100% 50/50 [00:23<00:00,  2.14it/s]\n",
            "                 Class     Images  Instances      Box(P          R      mAP50  mAP50-95): 100% 5/5 [00:01<00:00,  3.12it/s]\n",
            "                   all         49       1174      0.841       0.73      0.826      0.553\n",
            "\n",
            "      Epoch    GPU_mem   box_loss   cls_loss   dfl_loss  Instances       Size\n",
            "       7/50      6.09G     0.9064     0.6421     0.8774        152       1280: 100% 50/50 [00:23<00:00,  2.12it/s]\n",
            "                 Class     Images  Instances      Box(P          R      mAP50  mAP50-95): 100% 5/5 [00:02<00:00,  2.01it/s]\n",
            "                   all         49       1174      0.804      0.747      0.824      0.554\n",
            "\n",
            "      Epoch    GPU_mem   box_loss   cls_loss   dfl_loss  Instances       Size\n",
            "       8/50      6.69G     0.9138     0.6296     0.8732         56       1280: 100% 50/50 [00:23<00:00,  2.15it/s]\n",
            "                 Class     Images  Instances      Box(P          R      mAP50  mAP50-95): 100% 5/5 [00:01<00:00,  3.06it/s]\n",
            "                   all         49       1174      0.892      0.751      0.835      0.546\n",
            "\n",
            "      Epoch    GPU_mem   box_loss   cls_loss   dfl_loss  Instances       Size\n",
            "       9/50      6.74G     0.8691     0.5729     0.8636        163       1280: 100% 50/50 [00:23<00:00,  2.13it/s]\n",
            "                 Class     Images  Instances      Box(P          R      mAP50  mAP50-95): 100% 5/5 [00:01<00:00,  3.42it/s]\n",
            "                   all         49       1174      0.861      0.788      0.852      0.567\n",
            "\n",
            "      Epoch    GPU_mem   box_loss   cls_loss   dfl_loss  Instances       Size\n",
            "      10/50       6.6G     0.9059     0.5828     0.8606        148       1280: 100% 50/50 [00:23<00:00,  2.09it/s]\n",
            "                 Class     Images  Instances      Box(P          R      mAP50  mAP50-95): 100% 5/5 [00:02<00:00,  1.90it/s]\n",
            "                   all         49       1174       0.85      0.814      0.858      0.577\n",
            "\n",
            "      Epoch    GPU_mem   box_loss   cls_loss   dfl_loss  Instances       Size\n",
            "      11/50      6.63G      0.885      0.572     0.8649         61       1280: 100% 50/50 [00:23<00:00,  2.14it/s]\n",
            "                 Class     Images  Instances      Box(P          R      mAP50  mAP50-95): 100% 5/5 [00:01<00:00,  3.44it/s]\n",
            "                   all         49       1174      0.889      0.807      0.867      0.582\n",
            "\n",
            "      Epoch    GPU_mem   box_loss   cls_loss   dfl_loss  Instances       Size\n",
            "      12/50      6.23G     0.8361     0.5419     0.8557        107       1280: 100% 50/50 [00:22<00:00,  2.18it/s]\n",
            "                 Class     Images  Instances      Box(P          R      mAP50  mAP50-95): 100% 5/5 [00:02<00:00,  2.23it/s]\n",
            "                   all         49       1174      0.937      0.798      0.871      0.603\n",
            "\n",
            "      Epoch    GPU_mem   box_loss   cls_loss   dfl_loss  Instances       Size\n",
            "      13/50      6.93G     0.8513     0.5316     0.8554        120       1280: 100% 50/50 [00:24<00:00,  2.06it/s]\n",
            "                 Class     Images  Instances      Box(P          R      mAP50  mAP50-95): 100% 5/5 [00:01<00:00,  3.40it/s]\n",
            "                   all         49       1174      0.872      0.794      0.855      0.606\n",
            "\n",
            "      Epoch    GPU_mem   box_loss   cls_loss   dfl_loss  Instances       Size\n",
            "      14/50      6.97G     0.8502     0.5204     0.8615        244       1280: 100% 50/50 [00:23<00:00,  2.15it/s]\n",
            "                 Class     Images  Instances      Box(P          R      mAP50  mAP50-95): 100% 5/5 [00:01<00:00,  3.61it/s]\n",
            "                   all         49       1174      0.913      0.807      0.878        0.6\n",
            "\n",
            "      Epoch    GPU_mem   box_loss   cls_loss   dfl_loss  Instances       Size\n",
            "      15/50      6.13G     0.8521     0.5056     0.8567        133       1280: 100% 50/50 [00:24<00:00,  2.05it/s]\n",
            "                 Class     Images  Instances      Box(P          R      mAP50  mAP50-95): 100% 5/5 [00:02<00:00,  1.89it/s]\n",
            "                   all         49       1174      0.859       0.83      0.878      0.588\n",
            "\n",
            "      Epoch    GPU_mem   box_loss   cls_loss   dfl_loss  Instances       Size\n",
            "      16/50      6.82G     0.8228     0.5049     0.8513        168       1280: 100% 50/50 [00:23<00:00,  2.12it/s]\n",
            "                 Class     Images  Instances      Box(P          R      mAP50  mAP50-95): 100% 5/5 [00:01<00:00,  3.48it/s]\n",
            "                   all         49       1174       0.91      0.817       0.88      0.615\n",
            "\n",
            "      Epoch    GPU_mem   box_loss   cls_loss   dfl_loss  Instances       Size\n",
            "      17/50       7.2G     0.8218     0.4901     0.8541        122       1280: 100% 50/50 [00:23<00:00,  2.14it/s]\n",
            "                 Class     Images  Instances      Box(P          R      mAP50  mAP50-95): 100% 5/5 [00:01<00:00,  2.65it/s]\n",
            "                   all         49       1174      0.892      0.814      0.876      0.604\n",
            "\n",
            "      Epoch    GPU_mem   box_loss   cls_loss   dfl_loss  Instances       Size\n",
            "      18/50      7.15G     0.7865     0.4781     0.8461        123       1280: 100% 50/50 [00:23<00:00,  2.11it/s]\n",
            "                 Class     Images  Instances      Box(P          R      mAP50  mAP50-95): 100% 5/5 [00:01<00:00,  3.08it/s]\n",
            "                   all         49       1174      0.886      0.825      0.885      0.619\n",
            "\n",
            "      Epoch    GPU_mem   box_loss   cls_loss   dfl_loss  Instances       Size\n",
            "      19/50      6.76G     0.7923     0.4684     0.8515        143       1280: 100% 50/50 [00:22<00:00,  2.22it/s]\n",
            "                 Class     Images  Instances      Box(P          R      mAP50  mAP50-95): 100% 5/5 [00:01<00:00,  3.57it/s]\n",
            "                   all         49       1174      0.912      0.845      0.889      0.624\n",
            "\n",
            "      Epoch    GPU_mem   box_loss   cls_loss   dfl_loss  Instances       Size\n",
            "      20/50      6.93G     0.7906     0.4672     0.8487         74       1280: 100% 50/50 [00:23<00:00,  2.11it/s]\n",
            "                 Class     Images  Instances      Box(P          R      mAP50  mAP50-95): 100% 5/5 [00:02<00:00,  1.97it/s]\n",
            "                   all         49       1174      0.911      0.824      0.889      0.634\n",
            "\n",
            "      Epoch    GPU_mem   box_loss   cls_loss   dfl_loss  Instances       Size\n",
            "      21/50       6.5G     0.8083     0.4725     0.8491        132       1280: 100% 50/50 [00:23<00:00,  2.13it/s]\n",
            "                 Class     Images  Instances      Box(P          R      mAP50  mAP50-95): 100% 5/5 [00:01<00:00,  3.10it/s]\n",
            "                   all         49       1174      0.882      0.856      0.888      0.633\n",
            "\n",
            "      Epoch    GPU_mem   box_loss   cls_loss   dfl_loss  Instances       Size\n",
            "      22/50      6.63G     0.7871     0.4578     0.8484        123       1280: 100% 50/50 [00:23<00:00,  2.16it/s]\n",
            "                 Class     Images  Instances      Box(P          R      mAP50  mAP50-95): 100% 5/5 [00:01<00:00,  3.74it/s]\n",
            "                   all         49       1174      0.921      0.793      0.887       0.62\n",
            "\n",
            "      Epoch    GPU_mem   box_loss   cls_loss   dfl_loss  Instances       Size\n",
            "      23/50      6.94G     0.7821     0.4563     0.8492        148       1280: 100% 50/50 [00:23<00:00,  2.10it/s]\n",
            "                 Class     Images  Instances      Box(P          R      mAP50  mAP50-95): 100% 5/5 [00:02<00:00,  1.92it/s]\n",
            "                   all         49       1174      0.885      0.833      0.868      0.621\n",
            "\n",
            "      Epoch    GPU_mem   box_loss   cls_loss   dfl_loss  Instances       Size\n",
            "      24/50      6.84G     0.7842     0.4592     0.8425         79       1280: 100% 50/50 [00:23<00:00,  2.16it/s]\n",
            "                 Class     Images  Instances      Box(P          R      mAP50  mAP50-95): 100% 5/5 [00:01<00:00,  3.59it/s]\n",
            "                   all         49       1174      0.905      0.824      0.881      0.614\n",
            "\n",
            "      Epoch    GPU_mem   box_loss   cls_loss   dfl_loss  Instances       Size\n",
            "      25/50      6.57G     0.7735     0.4481     0.8454        114       1280: 100% 50/50 [00:23<00:00,  2.14it/s]\n",
            "                 Class     Images  Instances      Box(P          R      mAP50  mAP50-95): 100% 5/5 [00:02<00:00,  2.33it/s]\n",
            "                   all         49       1174      0.918      0.831      0.883      0.625\n",
            "\n",
            "      Epoch    GPU_mem   box_loss   cls_loss   dfl_loss  Instances       Size\n",
            "      26/50      6.58G     0.7726     0.4443     0.8396        171       1280: 100% 50/50 [00:23<00:00,  2.10it/s]\n",
            "                 Class     Images  Instances      Box(P          R      mAP50  mAP50-95): 100% 5/5 [00:01<00:00,  3.26it/s]\n",
            "                   all         49       1174      0.914      0.832       0.89      0.617\n",
            "\n",
            "      Epoch    GPU_mem   box_loss   cls_loss   dfl_loss  Instances       Size\n",
            "      27/50      6.25G     0.7757      0.443     0.8436        129       1280: 100% 50/50 [00:23<00:00,  2.15it/s]\n",
            "                 Class     Images  Instances      Box(P          R      mAP50  mAP50-95): 100% 5/5 [00:01<00:00,  3.68it/s]\n",
            "                   all         49       1174      0.913      0.855      0.883      0.625\n",
            "\n",
            "      Epoch    GPU_mem   box_loss   cls_loss   dfl_loss  Instances       Size\n",
            "      28/50      6.79G     0.7438     0.4323     0.8434         82       1280: 100% 50/50 [00:23<00:00,  2.12it/s]\n",
            "                 Class     Images  Instances      Box(P          R      mAP50  mAP50-95): 100% 5/5 [00:02<00:00,  1.91it/s]\n",
            "                   all         49       1174       0.93      0.831      0.878      0.632\n",
            "\n",
            "      Epoch    GPU_mem   box_loss   cls_loss   dfl_loss  Instances       Size\n",
            "      29/50      7.43G     0.7578     0.4346     0.8373        169       1280: 100% 50/50 [00:23<00:00,  2.12it/s]\n",
            "                 Class     Images  Instances      Box(P          R      mAP50  mAP50-95): 100% 5/5 [00:01<00:00,  3.31it/s]\n",
            "                   all         49       1174      0.918      0.838      0.877       0.62\n",
            "\n",
            "      Epoch    GPU_mem   box_loss   cls_loss   dfl_loss  Instances       Size\n",
            "      30/50      7.39G     0.7521     0.4325     0.8402        212       1280: 100% 50/50 [00:23<00:00,  2.12it/s]\n",
            "                 Class     Images  Instances      Box(P          R      mAP50  mAP50-95): 100% 5/5 [00:01<00:00,  3.25it/s]\n",
            "                   all         49       1174      0.941      0.833      0.895      0.626\n",
            "\n",
            "      Epoch    GPU_mem   box_loss   cls_loss   dfl_loss  Instances       Size\n",
            "      31/50      6.28G     0.7572     0.4249     0.8387        150       1280: 100% 50/50 [00:24<00:00,  2.07it/s]\n",
            "                 Class     Images  Instances      Box(P          R      mAP50  mAP50-95): 100% 5/5 [00:02<00:00,  1.94it/s]\n",
            "                   all         49       1174      0.934      0.843      0.886      0.623\n",
            "\n",
            "      Epoch    GPU_mem   box_loss   cls_loss   dfl_loss  Instances       Size\n",
            "      32/50      6.39G     0.7253     0.4189     0.8375        171       1280: 100% 50/50 [00:23<00:00,  2.15it/s]\n",
            "                 Class     Images  Instances      Box(P          R      mAP50  mAP50-95): 100% 5/5 [00:01<00:00,  3.51it/s]\n",
            "                   all         49       1174      0.921      0.854      0.889      0.625\n",
            "\n",
            "      Epoch    GPU_mem   box_loss   cls_loss   dfl_loss  Instances       Size\n",
            "      33/50      7.25G     0.7257     0.4128      0.833        171       1280: 100% 50/50 [00:23<00:00,  2.12it/s]\n",
            "                 Class     Images  Instances      Box(P          R      mAP50  mAP50-95): 100% 5/5 [00:01<00:00,  2.70it/s]\n",
            "                   all         49       1174      0.909      0.846      0.895      0.639\n",
            "\n",
            "      Epoch    GPU_mem   box_loss   cls_loss   dfl_loss  Instances       Size\n",
            "      34/50      6.73G     0.7275     0.4127     0.8403        115       1280: 100% 50/50 [00:23<00:00,  2.09it/s]\n",
            "                 Class     Images  Instances      Box(P          R      mAP50  mAP50-95): 100% 5/5 [00:02<00:00,  2.31it/s]\n",
            "                   all         49       1174      0.896      0.867      0.892      0.633\n",
            "\n",
            "      Epoch    GPU_mem   box_loss   cls_loss   dfl_loss  Instances       Size\n",
            "      35/50      6.21G      0.742     0.4161     0.8397        133       1280: 100% 50/50 [00:23<00:00,  2.13it/s]\n",
            "                 Class     Images  Instances      Box(P          R      mAP50  mAP50-95): 100% 5/5 [00:01<00:00,  3.69it/s]\n",
            "                   all         49       1174      0.905      0.854      0.899      0.633\n",
            "\n",
            "      Epoch    GPU_mem   box_loss   cls_loss   dfl_loss  Instances       Size\n",
            "      36/50      5.97G     0.7346     0.4129     0.8396        146       1280: 100% 50/50 [00:23<00:00,  2.09it/s]\n",
            "                 Class     Images  Instances      Box(P          R      mAP50  mAP50-95): 100% 5/5 [00:02<00:00,  1.96it/s]\n",
            "                   all         49       1174      0.919      0.853      0.902      0.628\n",
            "\n",
            "      Epoch    GPU_mem   box_loss   cls_loss   dfl_loss  Instances       Size\n",
            "      37/50      7.05G       0.74     0.4109     0.8295        134       1280: 100% 50/50 [00:24<00:00,  2.08it/s]\n",
            "                 Class     Images  Instances      Box(P          R      mAP50  mAP50-95): 100% 5/5 [00:01<00:00,  3.46it/s]\n",
            "                   all         49       1174      0.888       0.87      0.893      0.642\n",
            "\n",
            "      Epoch    GPU_mem   box_loss   cls_loss   dfl_loss  Instances       Size\n",
            "      38/50      6.35G     0.7399     0.4108     0.8365        146       1280: 100% 50/50 [00:22<00:00,  2.23it/s]\n",
            "                 Class     Images  Instances      Box(P          R      mAP50  mAP50-95): 100% 5/5 [00:01<00:00,  3.49it/s]\n",
            "                   all         49       1174      0.942      0.849      0.895      0.647\n",
            "\n",
            "      Epoch    GPU_mem   box_loss   cls_loss   dfl_loss  Instances       Size\n",
            "      39/50      6.25G     0.7191     0.4026     0.8379        106       1280: 100% 50/50 [00:23<00:00,  2.09it/s]\n",
            "                 Class     Images  Instances      Box(P          R      mAP50  mAP50-95): 100% 5/5 [00:02<00:00,  2.02it/s]\n",
            "                   all         49       1174      0.935      0.849      0.897      0.643\n",
            "\n",
            "      Epoch    GPU_mem   box_loss   cls_loss   dfl_loss  Instances       Size\n",
            "      40/50      6.46G     0.7081     0.3941     0.8358         95       1280: 100% 50/50 [00:22<00:00,  2.21it/s]\n",
            "                 Class     Images  Instances      Box(P          R      mAP50  mAP50-95): 100% 5/5 [00:01<00:00,  3.47it/s]\n",
            "                   all         49       1174       0.92      0.841      0.896      0.645\n",
            "Closing dataloader mosaic\n",
            "\u001b[34m\u001b[1malbumentations: \u001b[0mBlur(p=0.01, blur_limit=(3, 7)), MedianBlur(p=0.01, blur_limit=(3, 7)), ToGray(p=0.01, num_output_channels=3, method='weighted_average'), CLAHE(p=0.01, clip_limit=(1.0, 4.0), tile_grid_size=(8, 8))\n",
            "\n",
            "      Epoch    GPU_mem   box_loss   cls_loss   dfl_loss  Instances       Size\n",
            "      41/50      5.84G     0.6784     0.3853      0.838         93       1280: 100% 50/50 [00:24<00:00,  2.03it/s]\n",
            "                 Class     Images  Instances      Box(P          R      mAP50  mAP50-95): 100% 5/5 [00:02<00:00,  2.36it/s]\n",
            "                   all         49       1174      0.937      0.829      0.894      0.635\n",
            "\n",
            "      Epoch    GPU_mem   box_loss   cls_loss   dfl_loss  Instances       Size\n",
            "      42/50      5.83G     0.6825     0.3833     0.8354         94       1280: 100% 50/50 [00:23<00:00,  2.13it/s]\n",
            "                 Class     Images  Instances      Box(P          R      mAP50  mAP50-95): 100% 5/5 [00:02<00:00,  2.46it/s]\n",
            "                   all         49       1174      0.948      0.798      0.885       0.63\n",
            "\n",
            "      Epoch    GPU_mem   box_loss   cls_loss   dfl_loss  Instances       Size\n",
            "      43/50      5.84G     0.6706     0.3795     0.8346         88       1280: 100% 50/50 [00:22<00:00,  2.23it/s]\n",
            "                 Class     Images  Instances      Box(P          R      mAP50  mAP50-95): 100% 5/5 [00:01<00:00,  3.64it/s]\n",
            "                   all         49       1174      0.889      0.865      0.897      0.635\n",
            "\n",
            "      Epoch    GPU_mem   box_loss   cls_loss   dfl_loss  Instances       Size\n",
            "      44/50      5.84G     0.6709     0.3754     0.8298         97       1280: 100% 50/50 [00:23<00:00,  2.16it/s]\n",
            "                 Class     Images  Instances      Box(P          R      mAP50  mAP50-95): 100% 5/5 [00:01<00:00,  2.94it/s]\n",
            "                   all         49       1174      0.896      0.832      0.882      0.639\n",
            "\n",
            "      Epoch    GPU_mem   box_loss   cls_loss   dfl_loss  Instances       Size\n",
            "      45/50      5.83G     0.6681     0.3718     0.8313         94       1280: 100% 50/50 [00:22<00:00,  2.21it/s]\n",
            "                 Class     Images  Instances      Box(P          R      mAP50  mAP50-95): 100% 5/5 [00:02<00:00,  2.02it/s]\n",
            "                   all         49       1174      0.929      0.819      0.889      0.641\n",
            "\n",
            "      Epoch    GPU_mem   box_loss   cls_loss   dfl_loss  Instances       Size\n",
            "      46/50      5.84G     0.6571     0.3667     0.8312         94       1280: 100% 50/50 [00:22<00:00,  2.19it/s]\n",
            "                 Class     Images  Instances      Box(P          R      mAP50  mAP50-95): 100% 5/5 [00:01<00:00,  3.55it/s]\n",
            "                   all         49       1174       0.94      0.843      0.898      0.646\n",
            "\n",
            "      Epoch    GPU_mem   box_loss   cls_loss   dfl_loss  Instances       Size\n",
            "      47/50      5.84G     0.6565     0.3641       0.83         94       1280: 100% 50/50 [00:21<00:00,  2.28it/s]\n",
            "                 Class     Images  Instances      Box(P          R      mAP50  mAP50-95): 100% 5/5 [00:01<00:00,  3.60it/s]\n",
            "                   all         49       1174      0.925       0.86      0.899      0.647\n",
            "\n",
            "      Epoch    GPU_mem   box_loss   cls_loss   dfl_loss  Instances       Size\n",
            "      48/50      5.82G     0.6559     0.3589      0.832         90       1280: 100% 50/50 [00:22<00:00,  2.22it/s]\n",
            "                 Class     Images  Instances      Box(P          R      mAP50  mAP50-95): 100% 5/5 [00:02<00:00,  1.86it/s]\n",
            "                   all         49       1174      0.902      0.865      0.889      0.655\n",
            "\n",
            "      Epoch    GPU_mem   box_loss   cls_loss   dfl_loss  Instances       Size\n",
            "      49/50      5.83G      0.654     0.3582      0.829         95       1280: 100% 50/50 [00:22<00:00,  2.25it/s]\n",
            "                 Class     Images  Instances      Box(P          R      mAP50  mAP50-95): 100% 5/5 [00:01<00:00,  3.41it/s]\n",
            "                   all         49       1174      0.922      0.844      0.893      0.653\n",
            "\n",
            "      Epoch    GPU_mem   box_loss   cls_loss   dfl_loss  Instances       Size\n",
            "      50/50      5.82G     0.6452     0.3505     0.8292         94       1280: 100% 50/50 [00:22<00:00,  2.18it/s]\n",
            "                 Class     Images  Instances      Box(P          R      mAP50  mAP50-95): 100% 5/5 [00:01<00:00,  3.68it/s]\n",
            "                   all         49       1174      0.888      0.863      0.888      0.652\n",
            "\n",
            "50 epochs completed in 0.372 hours.\n",
            "Optimizer stripped from runs/detect/train/weights/last.pt, 22.7MB\n",
            "Optimizer stripped from runs/detect/train/weights/best.pt, 22.7MB\n",
            "\n",
            "Validating runs/detect/train/weights/best.pt...\n",
            "Ultralytics 8.3.28 🚀 Python-3.10.12 torch-2.5.0+cu121 CUDA:0 (Tesla T4, 15102MiB)\n",
            "Model summary (fused): 168 layers, 11,127,132 parameters, 0 gradients, 28.4 GFLOPs\n",
            "                 Class     Images  Instances      Box(P          R      mAP50  mAP50-95): 100% 5/5 [00:04<00:00,  1.17it/s]\n",
            "                   all         49       1174      0.898      0.865      0.888      0.654\n",
            "                  ball         45         45      0.798      0.578      0.637      0.327\n",
            "            goalkeeper         38         39      0.922      0.911      0.941      0.743\n",
            "                player         49        973      0.955      0.989      0.994      0.832\n",
            "               referee         49        117      0.918      0.983      0.982      0.713\n",
            "Speed: 0.8ms preprocess, 20.0ms inference, 0.0ms loss, 6.9ms postprocess per image\n",
            "Results saved to \u001b[1mruns/detect/train\u001b[0m\n",
            "💡 Learn more at https://docs.ultralytics.com/modes/train\n"
          ]
        }
      ]
    },
    {
      "cell_type": "code",
      "source": [
        "!project.version(dataset.version).deploy(model_type=\"yolov8\",model_path=f\"{HOME}/runs/detect/train/\")"
      ],
      "metadata": {
        "colab": {
          "base_uri": "https://localhost:8080/"
        },
        "id": "rifptM6vBWAl",
        "outputId": "674faaaa-2ab3-4dc0-84e7-33b4744b06ec"
      },
      "execution_count": 9,
      "outputs": [
        {
          "output_type": "stream",
          "name": "stdout",
          "text": [
            "/bin/bash: -c: line 1: syntax error near unexpected token `dataset.version'\n",
            "/bin/bash: -c: line 1: `project.version(dataset.version).deploy(model_type=\"yolov8\",model_path=f\"/content/runs/detect/train/\")'\n"
          ]
        }
      ]
    },
    {
      "cell_type": "code",
      "source": [
        "!nvidia-smi\n"
      ],
      "metadata": {
        "colab": {
          "base_uri": "https://localhost:8080/"
        },
        "id": "VdzfnJG6BWeh",
        "outputId": "8b1498bf-b01e-4d92-9b51-fa3bf3c90297"
      },
      "execution_count": 10,
      "outputs": [
        {
          "output_type": "stream",
          "name": "stdout",
          "text": [
            "Sat Nov  9 15:43:34 2024       \n",
            "+---------------------------------------------------------------------------------------+\n",
            "| NVIDIA-SMI 535.104.05             Driver Version: 535.104.05   CUDA Version: 12.2     |\n",
            "|-----------------------------------------+----------------------+----------------------+\n",
            "| GPU  Name                 Persistence-M | Bus-Id        Disp.A | Volatile Uncorr. ECC |\n",
            "| Fan  Temp   Perf          Pwr:Usage/Cap |         Memory-Usage | GPU-Util  Compute M. |\n",
            "|                                         |                      |               MIG M. |\n",
            "|=========================================+======================+======================|\n",
            "|   0  Tesla T4                       Off | 00000000:00:04.0 Off |                    0 |\n",
            "| N/A   49C    P8              11W /  70W |      0MiB / 15360MiB |      0%      Default |\n",
            "|                                         |                      |                  N/A |\n",
            "+-----------------------------------------+----------------------+----------------------+\n",
            "                                                                                         \n",
            "+---------------------------------------------------------------------------------------+\n",
            "| Processes:                                                                            |\n",
            "|  GPU   GI   CI        PID   Type   Process name                            GPU Memory |\n",
            "|        ID   ID                                                             Usage      |\n",
            "|=======================================================================================|\n",
            "|  No running processes found                                                           |\n",
            "+---------------------------------------------------------------------------------------+\n"
          ]
        }
      ]
    },
    {
      "cell_type": "code",
      "source": [
        "!pip install -q gdown inference-gpu supervision"
      ],
      "metadata": {
        "id": "D0-ngKWIBW0u"
      },
      "execution_count": 11,
      "outputs": []
    },
    {
      "cell_type": "code",
      "source": [
        "!pip install -q git+https://github.com/roboflow/sports.git"
      ],
      "metadata": {
        "colab": {
          "base_uri": "https://localhost:8080/"
        },
        "id": "4W-T8bVKBXIr",
        "outputId": "b3668bb2-2c63-4d52-8972-344bf1317241"
      },
      "execution_count": null,
      "outputs": [
        {
          "output_type": "stream",
          "name": "stdout",
          "text": [
            "  Preparing metadata (setup.py) ... \u001b[?25l\u001b[?25hdone\n"
          ]
        }
      ]
    },
    {
      "cell_type": "code",
      "source": [
        "!gdwon -O \"0bfacc_0.mp4\" \"https://drive.google.com/uc?id=12TqauVZ9tLAv8kWxTTBFWtgt2hNQ4_ZF\"\n",
        "!gdwon -O \"0bfacc_0.mp4\" \"https://drive.google.com/uc?id=12TqauVZ9tLAv8kWxTTBFWtgt2hNQ4_ZF\"\n",
        "!gdwon -O \"0bfacc_0.mp4\" \"https://drive.google.com/uc?id=12TqauVZ9tLAv8kWxTTBFWtgt2hNQ4_ZF\"\n",
        "!gdwon -O \"0bfacc_0.mp4\" \"https://drive.google.com/uc?id=12TqauVZ9tLAv8kWxTTBFWtgt2hNQ4_ZF\"\n",
        "!gdwon -O \"0bfacc_0.mp4\" \"https://drive.google.com/uc?id=12TqauVZ9tLAv8kWxTTBFWtgt2hNQ4_ZF\""
      ],
      "metadata": {
        "colab": {
          "base_uri": "https://localhost:8080/"
        },
        "id": "v9Zv_LSZGseA",
        "outputId": "44c279bc-d2d7-4d42-bc28-fbbd1d466f71"
      },
      "execution_count": 12,
      "outputs": [
        {
          "output_type": "stream",
          "name": "stdout",
          "text": [
            "/bin/bash: line 1: gdwon: command not found\n",
            "/bin/bash: line 1: gdwon: command not found\n",
            "/bin/bash: line 1: gdwon: command not found\n",
            "/bin/bash: line 1: gdwon: command not found\n",
            "/bin/bash: line 1: gdwon: command not found\n"
          ]
        }
      ]
    },
    {
      "cell_type": "code",
      "source": [
        "import os\n",
        "os.environ[\"ONNXRUNTIME_EXECUTION_PROVIDERS\"]=\"[CUDAExecutionProvider]\""
      ],
      "metadata": {
        "id": "VaYJy0HUGLAp"
      },
      "execution_count": 13,
      "outputs": []
    },
    {
      "cell_type": "markdown",
      "source": [
        "## BAL, PLAYER, GOALKEEPER AND REFERESS DETECTION\n"
      ],
      "metadata": {
        "id": "cHRUEaFLYzcN"
      }
    },
    {
      "cell_type": "code",
      "source": [
        "from inference import get_model\n",
        "from google.colab import userdata\n",
        "from google.colab import userdata\n",
        "\n",
        "ROBOFLOW_API_KEY = \"gyjxoHJ8S5D6u8XekS6K\"\n",
        "os.environ[\"ROBOFLOW_API_KEY\"] = ROBOFLOW_API_KEY\n",
        "\n",
        "ROBOFLOW_API_KEY = os.environ.get(\"ROBOFLOW_API_KEY\")\n",
        "\n",
        "PLAYER_DETECTION_MODEL_ID = \"football-players-detection-3zvbc/12\"\n",
        "PLAYER_DETECTION_MODEL = get_model (\n",
        "    model_id =PLAYER_DETECTION_MODEL_ID,\n",
        "    api_key=ROBOFLOW_API_KEY\n",
        ")"
      ],
      "metadata": {
        "id": "f72-vHTEGKin",
        "colab": {
          "base_uri": "https://localhost:8080/"
        },
        "outputId": "818d877d-c988-447e-837d-ef23ee253f51"
      },
      "execution_count": 2,
      "outputs": [
        {
          "output_type": "stream",
          "name": "stderr",
          "text": [
            "SupervisionWarnings: BoundingBoxAnnotator is deprecated: `BoundingBoxAnnotator` is deprecated and has been renamed to `BoxAnnotator`. `BoundingBoxAnnotator` will be removed in supervision-0.26.0.\n",
            "UserWarning: Specified provider 'OpenVINOExecutionProvider' is not in available provider names.Available providers: 'TensorrtExecutionProvider, CUDAExecutionProvider, CPUExecutionProvider'\n",
            "UserWarning: Specified provider 'CoreMLExecutionProvider' is not in available provider names.Available providers: 'TensorrtExecutionProvider, CUDAExecutionProvider, CPUExecutionProvider'\n"
          ]
        }
      ]
    },
    {
      "cell_type": "code",
      "source": [
        "import supervision as sv\n",
        "import cv2\n",
        "import os\n",
        "import tempfile\n",
        "\n",
        "# Path to your image directory\n",
        "image_dir = \"/content/football-players-detection-12/train/images\"\n",
        "\n",
        "# Get a list of image files in the directory\n",
        "image_files = [f for f in os.listdir(image_dir) if os.path.isfile(os.path.join(image_dir, f))]\n",
        "\n",
        "# Loop through each image file and process it\n",
        "for image_file in image_files:\n",
        "    # Construct the full path to the image\n",
        "    image_path = os.path.join(image_dir, image_file)\n",
        "\n",
        "    # Read the image using OpenCV\n",
        "    frame = cv2.imread(image_path)\n",
        "\n",
        "    # Check if the image was loaded correctly\n",
        "    if frame is None:\n",
        "        print(f\"Error: Could not load image from {image_path}. Please check the path and ensure the image exists.\")\n",
        "        continue # Skip to the next image\n",
        "\n",
        "    # Create a temporary file to save the image\n",
        "    with tempfile.NamedTemporaryFile(suffix=\".jpg\", delete=False) as temp_file:\n",
        "        temp_file_path = temp_file.name\n",
        "        cv2.imwrite(temp_file_path, frame)\n",
        "\n",
        "    # Now 'temp_file_path' contains the path to the temporary image file\n",
        "    # Use this path for inference\n",
        "    result = PLAYER_DETECTION_MODEL.infer(temp_file_path, confidence=0.3)[0]\n",
        "\n",
        "    # Remove the temporary file after inference\n",
        "    os.remove(temp_file_path)\n",
        "\n",
        "    # Instead of accessing ultralytics_results directly,\n",
        "    # use the built-in conversion method if available\n",
        "    # or access the predictions directly:\n",
        "\n",
        "    #detections = sv.Detections.from_roboflow(result)  # Try this if available\n",
        "    detections = sv.Detections.from_inference(result)\n",
        "\n",
        "\n",
        "    # The following lines were causing the IndentationError.\n",
        "    # They had an extra indentation level which has been removed.\n",
        "    labels = [\n",
        "        f\"{class_name} {confidence:.2f}\"\n",
        "        for class_name, confidence\n",
        "        in zip(detections[\"class_name\"], detections.confidence)\n",
        "    ]\n",
        "\n",
        "    box_annotator = sv.BoxAnnotator()\n",
        "    label_annotator = sv.LabelAnnotator()\n",
        "    annotated_frame = box_annotator.annotate(scene=frame.copy(), detections=detections)\n",
        "    annotated_frame = label_annotator.annotate(scene=annotated_frame, detections=detections, labels=labels) # Corrected 'label' to 'labels'\n",
        "\n",
        "    sv.plot_image(annotated_frame)"
      ],
      "metadata": {
        "id": "fzXaW5jz1-V-"
      },
      "execution_count": null,
      "outputs": []
    },
    {
      "cell_type": "code",
      "source": [],
      "metadata": {
        "id": "VMUiohz_uL57"
      },
      "execution_count": null,
      "outputs": []
    }
  ]
}